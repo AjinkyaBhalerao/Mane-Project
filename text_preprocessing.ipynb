{
 "cells": [
  {
   "cell_type": "code",
   "execution_count": 130,
   "metadata": {},
   "outputs": [],
   "source": [
    "import re\n",
    "import pandas as pd\n",
    "from nltk.tokenize import word_tokenize\n",
    "from nltk.stem import PorterStemmer\n",
    "from nltk.stem import WordNetLemmatizer\n",
    "\n",
    "def clean_text(text):\n",
    "    # Remove punctuations and unnecessary chars\n",
    "    text1 = re.sub(R'\\t', '', text)\n",
    "    text1 = ' '.join(text1.split())\n",
    "    text1 = re.sub(r'[^A-Za-z0-9\\s]', '', text)\n",
    "    text1 = text1.lower()\n",
    "    return text1\n",
    "\n",
    "def tokenize_text(text):\n",
    "    tokens = word_tokenize(text)\n",
    "    return tokens\n",
    "\n",
    "def stem_text(tokens):\n",
    "    stemmer = PorterStemmer()\n",
    "    stemmed_tokens = [stemmer.stem(token) for token in tokens]\n",
    "    return str(stemmed_tokens)\n",
    "\n",
    "def lemmatize_text(tokens):\n",
    "    lemmatizer = WordNetLemmatizer()\n",
    "    lemmatized_tokens = [lemmatizer.lemmatize(token) for token in tokens]\n",
    "    return str(lemmatized_tokens)"
   ]
  },
  {
   "cell_type": "code",
   "execution_count": 131,
   "metadata": {},
   "outputs": [
    {
     "name": "stdout",
     "output_type": "stream",
     "text": [
      "patent portfolio  audit and  licensing policy  confidential 2 patent portfolio audit and licensing policy confidential  aminata pouye 01 content portfolio audit 02 licensing opportunities 03 reasons for a licensing policy 3 patent portfolio audit and licensing policy confidential  aminata pouye 01 reasons for a licensing policy 4 patent portfolio audit and licensing policy confidential  aminata pouye a why a licensing policy 12  patents represent an important investment notably financially for companies and are considered as intangible asset that are of importance in evaluating the value and strength of a company  furthermore generally speaking less than 10 of a patent portfolio contribute towards revenues of a company thus there is a need to find returns on investments roi opportunities reasons for a licensing policy 5 patent portfolio audit and licensing policy confidential  aminata pouye a why a licensing policy 22  except for protecting the companys products and by extension its revenues a patent portfolios returns on investments can be of the following nature  royalties obtained from licensing out  revenues obtained from selling some of the patents  access to third party patents through crosslicensing deals reasons for a licensing policy 6 patent portfolio audit and licensing policy confidential  aminata pouye 02 portfolio audit  7 patent portfolio audit and licensing policy confidential  aminata pouye a why a portfolio audit  a strategic portfolio audit enables mane to strengthen its ip position and to identify licensing opportunities particularly a portfolio audit allows  to satisfy a general need to know what the company has and where the value in the portfolio lies  to identify gaps in protection  to survey manes portfolio for patents that are candidates for enforcement either by licensing or litigation or that canshould be sold portfolio audit  8 patent portfolio audit and licensing policy confidential  aminata pouye b methodology 13 segment the portfolio to assess it more efficiently either by technology product technical standard or by business units example of categorization for manes patent portfolio  fragrances  flavors  ingredients portfolio audit  9 patent portfolio audit and licensing policy confidential  aminata pouye b methodology 23 portfolio audit  unit  flavors tobacco pet food foodoral care fragrances consumer  goods ingredients naturals synthetics example of categorization of manes patent portfolio 10 patent portfolio audit and licensing policy confidential  aminata pouye b methodology 33  review the portfolio category by category with each businesscategory manager and answer the following question for each patent  is the patent exploited yesno  is the patent a core patent  can the patent technology be exploited in one of manes facility yesno  is the market adequately served yesno etc portfolio audit  11 patent portfolio audit and licensing policy confidential  aminata pouye c extraction and classification 12  after categorization and analysis of the portfolio we should extract in collaboration with management  core patents ie patents essential for mane because said patents allow exploitation of another patent for example  defensive patents ie patents that mane considers as important in view of its competitors  sufficiently exploited patents ie patents that mane exploits and serve adequately the market the above patents should not be proposed for licensing inout portfolio audit  12 patent portfolio audit and licensing policy confidential  aminata pouye c extraction and classification 22  after categorization and analysis of the portfolio we should extract in collaboration with management  patent families andor technology that might be proposed for licensing out  patent families andor technology that might need licensing in  in a perspective of roi we obtain a list of patent of interest for licensing out said patents correspond to nonsufficiently exploited or not exploited at all patents crosslicensing is eventually possible with said patents of interest andor patents of interest for licensing in portfolio audit  13 patent portfolio audit and licensing policy confidential  aminata pouye portfolio audit  patent x exploited evaluate  exploitation non optimal  exploitation optimal  exploitation not exploited why defensive  patent core patent not exploitable  because of  internal reasons  tox process  issuesor  because of  external reasons  no market  found 14 patent portfolio audit and licensing policy confidential  aminata pouye d asset assessment  automated analysis of each patent of interest for licensingout to ascertain a quantitative and qualitative measurement of  enforceability  intrinsic value for mane  licensing or sale potential portfolio audit  15 patent portfolio audit and licensing policy confidential  aminata pouye thanks for more information contact us wwwmanecom aminatapouyemanecom legal and ip department\n"
     ]
    }
   ],
   "source": [
    "folder = 'Data/text_files/'\n",
    "\n",
    "new_file = open('clean2019.txt', 'w+')\n",
    "read_from = open('Data/text_files/2019 Licensing Policy.txt', 'r', encoding='utf8')\n",
    "lines = read_from.readlines()\n",
    "\n",
    "lines = [x[:-1] for x in lines]\n",
    "p = clean_text(str(lines))\n",
    "new_file.write(p)\n",
    "\n",
    "print(p)\n",
    "new_file.close()\n",
    "read_from.close()"
   ]
  },
  {
   "cell_type": "code",
   "execution_count": 97,
   "metadata": {},
   "outputs": [
    {
     "name": "stdout",
     "output_type": "stream",
     "text": [
      "['patent', 'portfolio', 'audit', 'and', 'licens', 'polici', 'confidenti', '2', 'patent', 'portfolio', 'audit', 'and', 'licens', 'polici', 'confidenti', 'aminata', 'pouy', '01', 'content', 'portfolio', 'audit', '02', 'licens', 'opportun', '03', 'reason', 'for', 'a', 'licens', 'polici', '3', 'patent', 'portfolio', 'audit', 'and', 'licens', 'polici', 'confidenti', 'aminata', 'pouy', '01', 'reason', 'for', 'a', 'licens', 'polici', '4', 'patent', 'portfolio', 'audit', 'and', 'licens', 'polici', 'confidenti', 'aminata', 'pouy', 'a', 'whi', 'a', 'licens', 'polici', '12', 'patent', 'repres', 'an', 'import', 'invest', 'notabl', 'financi', 'for', 'compani', 'and', 'are', 'consid', 'as', 'intang', 'asset', 'that', 'are', 'of', 'import', 'in', 'evalu', 'the', 'valu', 'and', 'strength', 'of', 'a', 'compani', 'furthermor', 'gener', 'speak', 'less', 'than', '10', 'of', 'a', 'patent', 'portfolio', 'contribut', 'toward', 'revenu', 'of', 'a', 'compani', 'thu', 'there', 'is', 'a', 'need', 'to', 'find', 'return', 'on', 'invest', 'roi', 'opportun', 'reason', 'for', 'a', 'licens', 'polici', '5', 'patent', 'portfolio', 'audit', 'and', 'licens', 'polici', 'confidenti', 'aminata', 'pouy', 'a', 'whi', 'a', 'licens', 'polici', '22', 'except', 'for', 'protect', 'the', 'compani', 'product', 'and', 'by', 'extens', 'it', 'revenu', 'a', 'patent', 'portfolio', 'return', 'on', 'invest', 'can', 'be', 'of', 'the', 'follow', 'natur', 'royalti', 'obtain', 'from', 'licens', 'out', 'revenu', 'obtain', 'from', 'sell', 'some', 'of', 'the', 'patent', 'access', 'to', 'third', 'parti', 'patent', 'through', 'crosslicens', 'deal', 'reason', 'for', 'a', 'licens', 'polici', '6', 'patent', 'portfolio', 'audit', 'and', 'licens', 'polici', 'confidenti', 'aminata', 'pouy', '02', 'portfolio', 'audit', '7', 'patent', 'portfolio', 'audit', 'and', 'licens', 'polici', 'confidenti', 'aminata', 'pouy', 'a', 'whi', 'a', 'portfolio', 'audit', 'a', 'strateg', 'portfolio', 'audit', 'enabl', 'mane', 'to', 'strengthen', 'it', 'ip', 'posit', 'and', 'to', 'identifi', 'licens', 'opportun', 'particularli', 'a', 'portfolio', 'audit', 'allow', 'to', 'satisfi', 'a', 'gener', 'need', 'to', 'know', 'what', 'the', 'compani', 'ha', 'and', 'where', 'the', 'valu', 'in', 'the', 'portfolio', 'lie', 'to', 'identifi', 'gap', 'in', 'protect', 'to', 'survey', 'mane', 'portfolio', 'for', 'patent', 'that', 'are', 'candid', 'for', 'enforc', 'either', 'by', 'licens', 'or', 'litig', 'or', 'that', 'canshould', 'be', 'sold', 'portfolio', 'audit', '8', 'patent', 'portfolio', 'audit', 'and', 'licens', 'polici', 'confidenti', 'aminata', 'pouy', 'b', 'methodolog', '13', 'segment', 'the', 'portfolio', 'to', 'assess', 'it', 'more', 'effici', 'either', 'by', 'technolog', 'product', 'technic', 'standard', 'or', 'by', 'busi', 'unit', 'exampl', 'of', 'categor', 'for', 'mane', 'patent', 'portfolio', 'fragranc', 'flavor', 'ingredi', 'portfolio', 'audit', '9', 'patent', 'portfolio', 'audit', 'and', 'licens', 'polici', 'confidenti', 'aminata', 'pouy', 'b', 'methodolog', '23', 'portfolio', 'audit', 'unit', 'flavor', 'tobacco', 'pet', 'food', 'foodor', 'care', 'fragranc', 'consum', 'good', 'ingredi', 'natur', 'synthet', 'exampl', 'of', 'categor', 'of', 'mane', 'patent', 'portfolio', '10', 'patent', 'portfolio', 'audit', 'and', 'licens', 'polici', 'confidenti', 'aminata', 'pouy', 'b', 'methodolog', '33', 'review', 'the', 'portfolio', 'categori', 'by', 'categori', 'with', 'each', 'businesscategori', 'manag', 'and', 'answer', 'the', 'follow', 'question', 'for', 'each', 'patent', 'is', 'the', 'patent', 'exploit', 'yesno', 'is', 'the', 'patent', 'a', 'core', 'patent', 'can', 'the', 'patent', 'technolog', 'be', 'exploit', 'in', 'one', 'of', 'mane', 'facil', 'yesno', 'is', 'the', 'market', 'adequ', 'serv', 'yesno', 'etc', 'portfolio', 'audit', '11', 'patent', 'portfolio', 'audit', 'and', 'licens', 'polici', 'confidenti', 'aminata', 'pouy', 'c', 'extract', 'and', 'classif', '12', 'after', 'categor', 'and', 'analysi', 'of', 'the', 'portfolio', 'we', 'should', 'extract', 'in', 'collabor', 'with', 'manag', 'core', 'patent', 'ie', 'patent', 'essenti', 'for', 'mane', 'becaus', 'said', 'patent', 'allow', 'exploit', 'of', 'anoth', 'patent', 'for', 'exampl', 'defens', 'patent', 'ie', 'patent', 'that', 'mane', 'consid', 'as', 'import', 'in', 'view', 'of', 'it', 'competitor', 'suffici', 'exploit', 'patent', 'ie', 'patent', 'that', 'mane', 'exploit', 'and', 'serv', 'adequ', 'the', 'market', 'the', 'abov', 'patent', 'should', 'not', 'be', 'propos', 'for', 'licens', 'inout', 'portfolio', 'audit', '12', 'patent', 'portfolio', 'audit', 'and', 'licens', 'polici', 'confidenti', 'aminata', 'pouy', 'c', 'extract', 'and', 'classif', '22', 'after', 'categor', 'and', 'analysi', 'of', 'the', 'portfolio', 'we', 'should', 'extract', 'in', 'collabor', 'with', 'manag', 'patent', 'famili', 'andor', 'technolog', 'that', 'might', 'be', 'propos', 'for', 'licens', 'out', 'patent', 'famili', 'andor', 'technolog', 'that', 'might', 'need', 'licens', 'in', 'in', 'a', 'perspect', 'of', 'roi', 'we', 'obtain', 'a', 'list', 'of', 'patent', 'of', 'interest', 'for', 'licens', 'out', 'said', 'patent', 'correspond', 'to', 'nonsuffici', 'exploit', 'or', 'not', 'exploit', 'at', 'all', 'patent', 'crosslicens', 'is', 'eventu', 'possibl', 'with', 'said', 'patent', 'of', 'interest', 'andor', 'patent', 'of', 'interest', 'for', 'licens', 'in', 'portfolio', 'audit', '13', 'patent', 'portfolio', 'audit', 'and', 'licens', 'polici', 'confidenti', 'aminata', 'pouy', 'portfolio', 'audit', 'patent', 'x', 'exploit', 'evalu', 'exploit', 'non', 'optim', 'exploit', 'optim', 'exploit', 'not', 'exploit', 'whi', 'defens', 'patent', 'core', 'patent', 'not', 'exploit', 'becaus', 'of', 'intern', 'reason', 'tox', 'process', 'issuesor', 'becaus', 'of', 'extern', 'reason', 'no', 'market', 'found', '14', 'patent', 'portfolio', 'audit', 'and', 'licens', 'polici', 'confidenti', 'aminata', 'pouy', 'd', 'asset', 'assess', 'autom', 'analysi', 'of', 'each', 'patent', 'of', 'interest', 'for', 'licensingout', 'to', 'ascertain', 'a', 'quantit', 'and', 'qualit', 'measur', 'of', 'enforc', 'intrins', 'valu', 'for', 'mane', 'licens', 'or', 'sale', 'potenti', 'portfolio', 'audit', '15', 'patent', 'portfolio', 'audit', 'and', 'licens', 'polici', 'confidenti', 'aminata', 'pouy', 'thank', 'for', 'more', 'inform', 'contact', 'us', 'wwwmanecom', 'aminatapouyemanecom', 'legal', 'and', 'ip', 'depart']\n"
     ]
    }
   ],
   "source": [
    "tokens = tokenize_text(p)\n",
    "stems = stem_text(tokens)\n",
    "lemms = lemmatize_text(tokens)\n",
    "\n",
    "print(stems)"
   ]
  },
  {
   "cell_type": "code",
   "execution_count": 113,
   "metadata": {},
   "outputs": [],
   "source": [
    "import glob\n",
    "import os\n",
    "\n",
    "txt_list = glob.glob(r\"Data/text_files/*\")\n",
    "\n",
    "if os.path.exists(\"all_text.txt\"):\n",
    "  os.remove(\"all_text.txt\")\n",
    "all_text = open('all_text.txt', 'a', encoding='utf8')\n",
    "\n",
    "for item in txt_list:\n",
    "    f = open(item, 'r', encoding='utf8')\n",
    "    l = f.readlines()\n",
    "    \n",
    "    l = [x[:-1] for x in l]\n",
    "    clt = clean_text(str(l))\n",
    "    \n",
    "    all_text.write(clt)\n",
    "\n",
    "all_text.close()\n"
   ]
  },
  {
   "cell_type": "code",
   "execution_count": 128,
   "metadata": {},
   "outputs": [],
   "source": [
    "f = open('all_text.txt', 'r')\n",
    "l = f.readlines()\n",
    "\n",
    "if os.path.exists(\"all_stems.txt\"):\n",
    "  os.remove(\"all_stems.txt\")\n",
    "all_stems = open('all_stems.txt', 'a', encoding='utf8')\n",
    "\n",
    "tokens = tokenize_text(str(l))\n",
    "\n",
    "stems = stem_text(tokens = tokens)\n",
    "all_stems.write(stems)\n",
    "\n",
    "all_stems.close()"
   ]
  },
  {
   "cell_type": "code",
   "execution_count": 134,
   "metadata": {},
   "outputs": [],
   "source": [
    "if os.path.exists(\"all_lemms.txt\"):\n",
    "  os.remove(\"all_lemms.txt\")\n",
    "all_lemms = open('all_lemms.txt', 'a', encoding='utf8')\n",
    "\n",
    "lemms = lemmatize_text(tokens = tokens)\n",
    "all_lemms.write(lemms)\n",
    "\n",
    "all_lemms.close()"
   ]
  }
 ],
 "metadata": {
  "kernelspec": {
   "display_name": "Python 3",
   "language": "python",
   "name": "python3"
  },
  "language_info": {
   "codemirror_mode": {
    "name": "ipython",
    "version": 3
   },
   "file_extension": ".py",
   "mimetype": "text/x-python",
   "name": "python",
   "nbconvert_exporter": "python",
   "pygments_lexer": "ipython3",
   "version": "3.9.13"
  }
 },
 "nbformat": 4,
 "nbformat_minor": 2
}
