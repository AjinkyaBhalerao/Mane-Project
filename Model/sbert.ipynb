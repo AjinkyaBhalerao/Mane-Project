{
 "cells": [
  {
   "cell_type": "code",
   "execution_count": 2,
   "metadata": {},
   "outputs": [
    {
     "name": "stdout",
     "output_type": "stream",
     "text": [
      "Requirement already satisfied: sentence-transformers in /home/mane/anaconda3/lib/python3.11/site-packages (2.2.2)\n",
      "Requirement already satisfied: transformers<5.0.0,>=4.6.0 in /home/mane/anaconda3/lib/python3.11/site-packages (from sentence-transformers) (4.35.2)\n",
      "Requirement already satisfied: tqdm in /home/mane/anaconda3/lib/python3.11/site-packages (from sentence-transformers) (4.65.0)\n",
      "Requirement already satisfied: torch>=1.6.0 in /home/mane/anaconda3/lib/python3.11/site-packages (from sentence-transformers) (2.1.1)\n",
      "Requirement already satisfied: torchvision in /home/mane/anaconda3/lib/python3.11/site-packages (from sentence-transformers) (0.16.1)\n",
      "Requirement already satisfied: numpy in /home/mane/anaconda3/lib/python3.11/site-packages (from sentence-transformers) (1.24.3)\n",
      "Requirement already satisfied: scikit-learn in /home/mane/anaconda3/lib/python3.11/site-packages (from sentence-transformers) (1.3.0)\n",
      "Requirement already satisfied: scipy in /home/mane/anaconda3/lib/python3.11/site-packages (from sentence-transformers) (1.11.1)\n",
      "Requirement already satisfied: nltk in /home/mane/anaconda3/lib/python3.11/site-packages (from sentence-transformers) (3.8.1)\n",
      "Requirement already satisfied: sentencepiece in /home/mane/anaconda3/lib/python3.11/site-packages (from sentence-transformers) (0.1.99)\n",
      "Requirement already satisfied: huggingface-hub>=0.4.0 in /home/mane/anaconda3/lib/python3.11/site-packages (from sentence-transformers) (0.19.4)\n",
      "Requirement already satisfied: filelock in /home/mane/anaconda3/lib/python3.11/site-packages (from huggingface-hub>=0.4.0->sentence-transformers) (3.9.0)\n",
      "Requirement already satisfied: fsspec>=2023.5.0 in /home/mane/anaconda3/lib/python3.11/site-packages (from huggingface-hub>=0.4.0->sentence-transformers) (2023.10.0)\n",
      "Requirement already satisfied: requests in /home/mane/anaconda3/lib/python3.11/site-packages (from huggingface-hub>=0.4.0->sentence-transformers) (2.31.0)\n",
      "Requirement already satisfied: pyyaml>=5.1 in /home/mane/anaconda3/lib/python3.11/site-packages (from huggingface-hub>=0.4.0->sentence-transformers) (6.0)\n",
      "Requirement already satisfied: typing-extensions>=3.7.4.3 in /home/mane/anaconda3/lib/python3.11/site-packages (from huggingface-hub>=0.4.0->sentence-transformers) (4.7.1)\n",
      "Requirement already satisfied: packaging>=20.9 in /home/mane/anaconda3/lib/python3.11/site-packages (from huggingface-hub>=0.4.0->sentence-transformers) (23.1)\n",
      "Requirement already satisfied: sympy in /home/mane/anaconda3/lib/python3.11/site-packages (from torch>=1.6.0->sentence-transformers) (1.11.1)\n",
      "Requirement already satisfied: networkx in /home/mane/anaconda3/lib/python3.11/site-packages (from torch>=1.6.0->sentence-transformers) (3.1)\n",
      "Requirement already satisfied: jinja2 in /home/mane/anaconda3/lib/python3.11/site-packages (from torch>=1.6.0->sentence-transformers) (3.1.2)\n",
      "Requirement already satisfied: nvidia-cuda-nvrtc-cu12==12.1.105 in /home/mane/anaconda3/lib/python3.11/site-packages (from torch>=1.6.0->sentence-transformers) (12.1.105)\n",
      "Requirement already satisfied: nvidia-cuda-runtime-cu12==12.1.105 in /home/mane/anaconda3/lib/python3.11/site-packages (from torch>=1.6.0->sentence-transformers) (12.1.105)\n",
      "Requirement already satisfied: nvidia-cuda-cupti-cu12==12.1.105 in /home/mane/anaconda3/lib/python3.11/site-packages (from torch>=1.6.0->sentence-transformers) (12.1.105)\n",
      "Requirement already satisfied: nvidia-cudnn-cu12==8.9.2.26 in /home/mane/anaconda3/lib/python3.11/site-packages (from torch>=1.6.0->sentence-transformers) (8.9.2.26)\n",
      "Requirement already satisfied: nvidia-cublas-cu12==12.1.3.1 in /home/mane/anaconda3/lib/python3.11/site-packages (from torch>=1.6.0->sentence-transformers) (12.1.3.1)\n",
      "Requirement already satisfied: nvidia-cufft-cu12==11.0.2.54 in /home/mane/anaconda3/lib/python3.11/site-packages (from torch>=1.6.0->sentence-transformers) (11.0.2.54)\n",
      "Requirement already satisfied: nvidia-curand-cu12==10.3.2.106 in /home/mane/anaconda3/lib/python3.11/site-packages (from torch>=1.6.0->sentence-transformers) (10.3.2.106)\n",
      "Requirement already satisfied: nvidia-cusolver-cu12==11.4.5.107 in /home/mane/anaconda3/lib/python3.11/site-packages (from torch>=1.6.0->sentence-transformers) (11.4.5.107)\n",
      "Requirement already satisfied: nvidia-cusparse-cu12==12.1.0.106 in /home/mane/anaconda3/lib/python3.11/site-packages (from torch>=1.6.0->sentence-transformers) (12.1.0.106)\n",
      "Requirement already satisfied: nvidia-nccl-cu12==2.18.1 in /home/mane/anaconda3/lib/python3.11/site-packages (from torch>=1.6.0->sentence-transformers) (2.18.1)\n",
      "Requirement already satisfied: nvidia-nvtx-cu12==12.1.105 in /home/mane/anaconda3/lib/python3.11/site-packages (from torch>=1.6.0->sentence-transformers) (12.1.105)\n",
      "Requirement already satisfied: triton==2.1.0 in /home/mane/anaconda3/lib/python3.11/site-packages (from torch>=1.6.0->sentence-transformers) (2.1.0)\n",
      "Requirement already satisfied: nvidia-nvjitlink-cu12 in /home/mane/anaconda3/lib/python3.11/site-packages (from nvidia-cusolver-cu12==11.4.5.107->torch>=1.6.0->sentence-transformers) (12.3.101)\n",
      "Requirement already satisfied: regex!=2019.12.17 in /home/mane/anaconda3/lib/python3.11/site-packages (from transformers<5.0.0,>=4.6.0->sentence-transformers) (2022.7.9)\n",
      "Requirement already satisfied: tokenizers<0.19,>=0.14 in /home/mane/anaconda3/lib/python3.11/site-packages (from transformers<5.0.0,>=4.6.0->sentence-transformers) (0.15.0)\n",
      "Requirement already satisfied: safetensors>=0.3.1 in /home/mane/anaconda3/lib/python3.11/site-packages (from transformers<5.0.0,>=4.6.0->sentence-transformers) (0.3.2)\n",
      "Requirement already satisfied: click in /home/mane/anaconda3/lib/python3.11/site-packages (from nltk->sentence-transformers) (8.0.4)\n",
      "Requirement already satisfied: joblib in /home/mane/anaconda3/lib/python3.11/site-packages (from nltk->sentence-transformers) (1.2.0)\n",
      "Requirement already satisfied: threadpoolctl>=2.0.0 in /home/mane/anaconda3/lib/python3.11/site-packages (from scikit-learn->sentence-transformers) (2.2.0)\n",
      "Requirement already satisfied: pillow!=8.3.*,>=5.3.0 in /home/mane/anaconda3/lib/python3.11/site-packages (from torchvision->sentence-transformers) (9.4.0)\n",
      "Requirement already satisfied: MarkupSafe>=2.0 in /home/mane/anaconda3/lib/python3.11/site-packages (from jinja2->torch>=1.6.0->sentence-transformers) (2.1.1)\n",
      "Requirement already satisfied: charset-normalizer<4,>=2 in /home/mane/anaconda3/lib/python3.11/site-packages (from requests->huggingface-hub>=0.4.0->sentence-transformers) (2.0.4)\n",
      "Requirement already satisfied: idna<4,>=2.5 in /home/mane/anaconda3/lib/python3.11/site-packages (from requests->huggingface-hub>=0.4.0->sentence-transformers) (3.4)\n",
      "Requirement already satisfied: urllib3<3,>=1.21.1 in /home/mane/anaconda3/lib/python3.11/site-packages (from requests->huggingface-hub>=0.4.0->sentence-transformers) (1.26.16)\n",
      "Requirement already satisfied: certifi>=2017.4.17 in /home/mane/anaconda3/lib/python3.11/site-packages (from requests->huggingface-hub>=0.4.0->sentence-transformers) (2023.7.22)\n",
      "Requirement already satisfied: mpmath>=0.19 in /home/mane/anaconda3/lib/python3.11/site-packages (from sympy->torch>=1.6.0->sentence-transformers) (1.3.0)\n",
      "Note: you may need to restart the kernel to use updated packages.\n"
     ]
    }
   ],
   "source": [
    "pip install -U sentence-transformers"
   ]
  },
  {
   "cell_type": "markdown",
   "metadata": {},
   "source": [
    "**all-mpnet-base-v2** : All-round model tuned for many use-cases. Trained on a large and diverse dataset of over 1 billion training pairs.\n",
    "cosine-similarity (util.cos_sim)"
   ]
  },
  {
   "cell_type": "code",
   "execution_count": 3,
   "metadata": {},
   "outputs": [],
   "source": [
    "from sentence_transformers import SentenceTransformer\n",
    "import json\n",
    "model = SentenceTransformer('all-MiniLM-L6-v2')"
   ]
  },
  {
   "cell_type": "code",
   "execution_count": 4,
   "metadata": {},
   "outputs": [],
   "source": [
    "with open('modified_faq_data.json', 'r') as file:\n",
    "    data = json.load(file)"
   ]
  },
  {
   "cell_type": "code",
   "execution_count": 5,
   "metadata": {},
   "outputs": [],
   "source": [
    "questions = [entry['question'] for entry in data]\n",
    "answers = [entry['answer'] for entry in data]"
   ]
  },
  {
   "cell_type": "code",
   "execution_count": 6,
   "metadata": {},
   "outputs": [],
   "source": [
    "question_embeddings = model.encode(questions)\n",
    "answer_embeddings = model.encode(answers)"
   ]
  },
  {
   "cell_type": "code",
   "execution_count": 8,
   "metadata": {},
   "outputs": [
    {
     "name": "stdout",
     "output_type": "stream",
     "text": [
      "User's input: what is the difference between a commercial and an agent ? \n",
      "Most similar question: What is the difference between a Commercial Representative and an Agent?\n",
      "Corresponding answer: An Agent is entitled to negotiate selling prices on behalf of the company it represents, while a Commercial Representative is not. MANE does not appoint Agents, only Commercial Representatives.\n"
     ]
    }
   ],
   "source": [
    "from sentence_transformers import util\n",
    "\n",
    "# User's input question\n",
    "user_input = input(\"Type your question: \")\n",
    "\n",
    "# Encode the user's input\n",
    "user_input_embedding = model.encode(user_input)\n",
    "\n",
    "# Calculate cosine similarity between the user's input and all questions in the dataset\n",
    "similarities = util.cos_sim(user_input_embedding, question_embeddings)[0]\n",
    "most_similar_index = similarities.argmax()\n",
    "most_similar_question = questions[most_similar_index]\n",
    "most_similar_answer = answers[most_similar_index]\n",
    "\n",
    "print(f\"User's input: {user_input}\")\n",
    "print(f\"Most similar question: {most_similar_question}\")\n",
    "print(f\"Corresponding answer: {most_similar_answer}\")"
   ]
  },
  {
   "cell_type": "code",
   "execution_count": 44,
   "metadata": {},
   "outputs": [
    {
     "name": "stdout",
     "output_type": "stream",
     "text": [
      "Low similarity. Asking Vicuna for an answer...\n"
     ]
    },
    {
     "name": "stderr",
     "output_type": "stream",
     "text": [
      "usage: cli.py [-h] [--model-path MODEL_PATH] [--revision REVISION]\n",
      "              [--device {cpu,cuda,mps,xpu,npu}] [--gpus GPUS]\n",
      "              [--num-gpus NUM_GPUS] [--max-gpu-memory MAX_GPU_MEMORY]\n",
      "              [--dtype {float32,float16,bfloat16}] [--load-8bit]\n",
      "              [--cpu-offloading] [--gptq-ckpt GPTQ_CKPT]\n",
      "              [--gptq-wbits {2,3,4,8,16}] [--gptq-groupsize GPTQ_GROUPSIZE]\n",
      "              [--gptq-act-order] [--awq-ckpt AWQ_CKPT] [--awq-wbits {4,16}]\n",
      "              [--awq-groupsize AWQ_GROUPSIZE] [--enable-exllama]\n",
      "              [--exllama-max-seq-len EXLLAMA_MAX_SEQ_LEN]\n",
      "              [--exllama-gpu-split EXLLAMA_GPU_SPLIT] [--exllama-cache-8bit]\n",
      "              [--enable-xft] [--xft-max-seq-len XFT_MAX_SEQ_LEN]\n",
      "              [--xft-dtype {fp16,bf16,int8,bf16_fp16,bf16_int8}]\n",
      "              [--conv-template CONV_TEMPLATE]\n",
      "              [--conv-system-msg CONV_SYSTEM_MSG] [--temperature TEMPERATURE]\n",
      "              [--repetition_penalty REPETITION_PENALTY]\n",
      "              [--max-new-tokens MAX_NEW_TOKENS] [--no-history]\n",
      "              [--style {simple,rich,programmatic}] [--multiline] [--mouse]\n",
      "              [--judge-sent-end] [--debug]\n",
      "cli.py: error: unrecognized arguments: how are you ?\n"
     ]
    },
    {
     "name": "stdout",
     "output_type": "stream",
     "text": [
      "Error while running Vicuna: Command 'python3 -m fastchat.serve.cli --model lmsys/vicuna-7b-v1.5 \"how are you ?\"' returned non-zero exit status 2.\n",
      "Vicuna's answer: Error while running Vicuna\n"
     ]
    }
   ],
   "source": [
    "from sentence_transformers import SentenceTransformer, util\n",
    "import json\n",
    "from nltk.stem import WordNetLemmatizer\n",
    "import os\n",
    "import subprocess\n",
    "import shlex  # Import shlex to split the command string into a list\n",
    "# Load the lemmatizer for word normalization\n",
    "lemmatizer = WordNetLemmatizer()\n",
    "\n",
    "# Load the SentenceTransformer model\n",
    "model = SentenceTransformer('all-MiniLM-L6-v2')\n",
    "\n",
    "# Load the FAQ data\n",
    "with open('/home/mane/Mane-Project/Model/modified_faq_data.json', 'r') as file:\n",
    "    data = json.load(file)\n",
    "\n",
    "# Extract questions and answers from the data\n",
    "questions = [entry['question'] for entry in data]\n",
    "answers = [entry['answer'] for entry in data]\n",
    "\n",
    "# Encode questions and answers\n",
    "question_embeddings = model.encode(questions)\n",
    "answer_embeddings = model.encode(answers)\n",
    "\n",
    "# Set the working directory to the FastChat folder\n",
    "fastchat_directory = '/home/mane/FastChat'\n",
    "vicuna_model_path = 'lmsys/vicuna-7b-v1.5'\n",
    "user_input = input(\"Type your question: \")\n",
    "\n",
    "# Encode the user's input\n",
    "user_input_embedding = model.encode(user_input)\n",
    "\n",
    "# Calculate cosine similarity between the user's input and all questions in the dataset\n",
    "similarities = util.cos_sim(user_input_embedding, question_embeddings)[0]\n",
    "most_similar_index = similarities.argmax()\n",
    "highest_similarity = similarities[most_similar_index]\n",
    "\n",
    "# Set the threshold values\n",
    "high_threshold = 0.8\n",
    "medium_threshold = 0.5\n",
    "\n",
    "# Construct the command to run Vicuna with the user's question\n",
    "\n",
    "# Check the similarity against different thresholds\n",
    "if highest_similarity >= high_threshold:\n",
    "    # High similarity, directly provide the answer\n",
    "    print(f\"User's input: {user_input}\")\n",
    "    print(f\"Most similar question: {questions[most_similar_index]}\")\n",
    "    print(f\"Corresponding answer: {answers[most_similar_index]}\")\n",
    "\n",
    "elif medium_threshold <= highest_similarity < high_threshold:\n",
    "    # Medium similarity, ask for clarification\n",
    "    print(f\"The question is similar to: {questions[most_similar_index]}\")\n",
    "    user_confirmation = input(\"Is this the same question? (yes/no): \").lower()\n",
    "\n",
    "    if user_confirmation == 'yes':\n",
    "        # User confirms, provide the answer\n",
    "        print(f\"User's input: {user_input}\")\n",
    "        print(f\"Most similar question: {questions[most_similar_index]}\")\n",
    "        print(f\"Corresponding answer: {answers[most_similar_index]}\")\n",
    "    else:\n",
    "        # User denies, ask for clarification\n",
    "        user_input += \" \" + input(\"Please provide more details or clarify your question: \")\n",
    "        user_input_embedding = model.encode(user_input)\n",
    "        similarities = util.cos_sim(user_input_embedding, question_embeddings)[0]\n",
    "        most_similar_index = similarities.argmax()\n",
    "        print(f\"User's input after clarification: {user_input}\")\n",
    "        print(f\"Most similar question after clarification: {questions[most_similar_index]}\")\n",
    "        print(f\"Corresponding answer: {answers[most_similar_index]}\")\n",
    "else:\n",
    "    # Low similarity, use Vicuna for answering\n",
    "    print(\"Low similarity. Asking Vicuna for an answer...\")\n",
    "\n",
    "    # Set the working directory to the FastChat folder\n",
    "    os.chdir('/home/mane/FastChat')\n",
    "\n",
    "    # Construct the command to run Vicuna with the user's question\n",
    "    vicuna_command = f'python3 -m fastchat.serve.cli --model {vicuna_model_path} \"{user_input}\"'\n",
    "    try:\n",
    "        # Use subprocess to run Vicuna and capture its output\n",
    "        vicuna_answer = subprocess.check_output(vicuna_command, cwd=fastchat_directory, shell=True)\n",
    "        print(f\"Vicuna's answer: {vicuna_answer.decode('utf-8')}\")\n",
    "    except subprocess.CalledProcessError as e:\n",
    "        print(f\"Error while running Vicuna: {e}\")\n",
    "        vicuna_answer = \"Error while running Vicuna\"\n",
    "\n",
    "    print(f\"Vicuna's answer: {vicuna_answer}\")"
   ]
  }
 ],
 "metadata": {
  "kernelspec": {
   "display_name": "base",
   "language": "python",
   "name": "python3"
  },
  "language_info": {
   "codemirror_mode": {
    "name": "ipython",
    "version": 3
   },
   "file_extension": ".py",
   "mimetype": "text/x-python",
   "name": "python",
   "nbconvert_exporter": "python",
   "pygments_lexer": "ipython3",
   "version": "3.11.5"
  }
 },
 "nbformat": 4,
 "nbformat_minor": 2
}
