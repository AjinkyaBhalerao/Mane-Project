{
 "cells": [
  {
   "cell_type": "code",
   "execution_count": 15,
   "metadata": {},
   "outputs": [
    {
     "name": "stdout",
     "output_type": "stream",
     "text": [
      "Field removed and data saved to 'modified_data.json'.\n"
     ]
    }
   ],
   "source": [
    "import json\n",
    "\n",
    "# Read the JSON file\n",
    "with open('faq_data.json', 'r', encoding='utf8') as file:\n",
    "    data = json.load(file)\n",
    "\n",
    "# Remove the '_id' field\n",
    "for item in data:\n",
    "    if '_id' in item:\n",
    "        del item['_id']\n",
    "\n",
    "# Write the modified data back to the JSON file\n",
    "with open('modified_faq_data.json', 'w') as file:\n",
    "    json.dump(data, file, indent=3)\n",
    "\n",
    "print(\"Field removed and data saved to 'modified_faq_data.json'.\")"
   ]
  },
  {
   "cell_type": "code",
   "execution_count": 6,
   "metadata": {},
   "outputs": [],
   "source": [
    "import json\n",
    "\n",
    "def parse_data(txt_data):\n",
    "    entries = []\n",
    "    current_entry = {}\n",
    "\n",
    "    for line in txt_data:\n",
    "        line = line.strip()\n",
    "\n",
    "        if not line:\n",
    "            if current_entry:\n",
    "                entries.append(current_entry)\n",
    "                current_entry = {}\n",
    "            continue\n",
    "\n",
    "        key, value = line.split(':', 1)\n",
    "        current_entry[key.strip()] = value.strip()\n",
    "\n",
    "    if current_entry:\n",
    "        entries.append(current_entry)\n",
    "\n",
    "    return entries\n",
    "\n",
    "def convert_to_json(txt_data, json_file_path):\n",
    "    entries = parse_data(txt_data)\n",
    "    json_data = json.dumps(entries, indent=2)\n",
    "\n",
    "    with open(json_file_path, 'w', encoding='utf8') as json_file:\n",
    "        json_file.write(json_data)\n"
   ]
  },
  {
   "cell_type": "code",
   "execution_count": null,
   "metadata": {},
   "outputs": [],
   "source": [
    "if __name__ == \"__main__\":\n",
    "    txt_file_path = \"Data/HeavyDataset.txt\"  \n",
    "    json_file_path = \"output.json\"    \n",
    "\n",
    "    with open(txt_file_path, 'r', encoding='utf8') as txt_file:\n",
    "        txt_data = txt_file.readlines()\n",
    "\n",
    "    convert_to_json(txt_data, json_file_path)"
   ]
  },
  {
   "cell_type": "code",
   "execution_count": 18,
   "metadata": {},
   "outputs": [
    {
     "name": "stdout",
     "output_type": "stream",
     "text": [
      "Requirement already satisfied: unidecode in c:\\users\\wissa\\anaconda3\\lib\\site-packages (1.2.0)\n",
      "Note: you may need to restart the kernel to use updated packages.\n"
     ]
    }
   ],
   "source": [
    "pip install unidecode"
   ]
  },
  {
   "cell_type": "code",
   "execution_count": 17,
   "metadata": {},
   "outputs": [
    {
     "name": "stdout",
     "output_type": "stream",
     "text": [
      "Warning: Line skipped - no colon found: Encourage technological innovation by rewarding intellectual creativity in providing protection for the invention to the patent owner, patents provide incentives to individuals by offering them recognition for their creativity and the possibility of obtaining financial rewards if they commercialize or exploit their inventions. Promote competition and investment in developing new or improved products or processes by encouraging research and development. Encourage dissemination of information because information disclosed in patents is published and that may be of benefit to society. Promote technology transfer because anyone can find patented technologies that they may want to get access to and use themselves.\n"
     ]
    }
   ],
   "source": [
    "import json\n",
    "from unidecode import unidecode\n",
    "\n",
    "def clean_text(text):\n",
    "    return unidecode(text.strip().replace(\"“\", \"\\\"\").replace(\"”\", \"\\\"\").replace(\"\\\"\", \"\"))\n",
    "\n",
    "def parse_data(txt_data):\n",
    "    entries = []\n",
    "    current_entry = {}\n",
    "\n",
    "    for line in txt_data:\n",
    "        line = line.strip()\n",
    "\n",
    "        if not line:\n",
    "            if current_entry:\n",
    "                entries.append(current_entry)\n",
    "                current_entry = {}\n",
    "            continue\n",
    "\n",
    "        if ':' in line:\n",
    "            key, value = line.split(':', 1)\n",
    "            key = clean_text(key)\n",
    "            value = clean_text(value)\n",
    "            current_entry[key] = value\n",
    "        else:\n",
    "            print(f\"Warning: Line skipped - no colon found: {line}\")\n",
    "\n",
    "    if current_entry:\n",
    "        entries.append(current_entry)\n",
    "\n",
    "    return entries\n",
    "\n",
    "def convert_to_json(txt_data, json_file_path):\n",
    "    entries = parse_data(txt_data)\n",
    "    json_data = json.dumps(entries, indent=2)\n",
    "\n",
    "    with open(json_file_path, 'w', encoding='utf8') as json_file:\n",
    "        json_file.write(json_data)\n",
    "\n",
    "if __name__ == \"__main__\":\n",
    "    txt_file_path = \"Data\\HeavyDataset.txt\"\n",
    "    json_file_path = \"faq_data.json\"\n",
    "\n",
    "    with open(txt_file_path, 'r', encoding='utf8') as txt_file:\n",
    "        txt_data = txt_file.readlines()\n",
    "\n",
    "    convert_to_json(txt_data, json_file_path)\n"
   ]
  },
  {
   "cell_type": "code",
   "execution_count": 21,
   "metadata": {},
   "outputs": [],
   "source": [
    "import json\n",
    "from unidecode import unidecode\n",
    "\n",
    "def clean_text(text):\n",
    "    return unidecode(text.strip().replace(\"“\", \"\\\"\").replace(\"”\", \"\\\"\").replace(\"\\\"\", \"\"))\n",
    "\n",
    "def parse_data(txt_data):\n",
    "    entries = []\n",
    "    current_entry = {}\n",
    "\n",
    "    for line in txt_data:\n",
    "        line = line.strip()\n",
    "\n",
    "        if not line:\n",
    "            if current_entry:\n",
    "                entries.append(current_entry)\n",
    "                current_entry = {}\n",
    "            continue\n",
    "\n",
    "        if ':' in line:\n",
    "            key, value = line.split(':', 1)\n",
    "            key = clean_text(key)\n",
    "            value = clean_text(value)\n",
    "            current_entry[key] = value\n",
    "        else:\n",
    "            print(f\"Warning: Line skipped - no colon found: {line}\")\n",
    "\n",
    "    if current_entry:\n",
    "        entries.append(current_entry)\n",
    "\n",
    "    return entries\n",
    "\n",
    "def convert_to_json(txt_data, json_file_path):\n",
    "    entries = parse_data(txt_data)\n",
    "    json_data = json.dumps(entries, indent=2)\n",
    "\n",
    "    with open(json_file_path, 'w', encoding='utf8') as json_file:\n",
    "        json_file.write(json_data)\n",
    "\n",
    "if __name__ == \"__main__\":\n",
    "    txt_file_path = \"test_data.txt\"\n",
    "    json_file_path = \"test.json\"\n",
    "\n",
    "    with open(txt_file_path, 'r', encoding='utf8') as txt_file:\n",
    "        txt_data = txt_file.readlines()\n",
    "\n",
    "    convert_to_json(txt_data, json_file_path)\n"
   ]
  }
 ],
 "metadata": {
  "kernelspec": {
   "display_name": "Python 3",
   "language": "python",
   "name": "python3"
  },
  "language_info": {
   "codemirror_mode": {
    "name": "ipython",
    "version": 3
   },
   "file_extension": ".py",
   "mimetype": "text/x-python",
   "name": "python",
   "nbconvert_exporter": "python",
   "pygments_lexer": "ipython3",
   "version": "3.11.5"
  }
 },
 "nbformat": 4,
 "nbformat_minor": 2
}
