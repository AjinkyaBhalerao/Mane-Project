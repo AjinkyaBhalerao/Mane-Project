{
 "cells": [
  {
   "cell_type": "code",
   "execution_count": 6,
   "metadata": {},
   "outputs": [],
   "source": [
    "import json\n",
    "\n",
    "def parse_data(txt_data):\n",
    "    entries = []\n",
    "    current_entry = {}\n",
    "\n",
    "    for line in txt_data:\n",
    "        line = line.strip()\n",
    "\n",
    "        if not line:\n",
    "            if current_entry:\n",
    "                entries.append(current_entry)\n",
    "                current_entry = {}\n",
    "            continue\n",
    "\n",
    "        key, value = line.split(':', 1)\n",
    "        current_entry[key.strip()] = value.strip()\n",
    "\n",
    "    if current_entry:\n",
    "        entries.append(current_entry)\n",
    "\n",
    "    return entries\n",
    "\n",
    "def convert_to_json(txt_data, json_file_path):\n",
    "    entries = parse_data(txt_data)\n",
    "    json_data = json.dumps(entries, indent=2)\n",
    "\n",
    "    with open(json_file_path, 'w', encoding='utf8') as json_file:\n",
    "        json_file.write(json_data)\n"
   ]
  },
  {
   "cell_type": "code",
   "execution_count": 7,
   "metadata": {},
   "outputs": [
    {
     "ename": "ValueError",
     "evalue": "not enough values to unpack (expected 2, got 1)",
     "output_type": "error",
     "traceback": [
      "\u001b[1;31m---------------------------------------------------------------------------\u001b[0m",
      "\u001b[1;31mValueError\u001b[0m                                Traceback (most recent call last)",
      "\u001b[1;32mc:\\Users\\Dell\\Desktop\\Mane\\Mane-Project\\json_edit.ipynb Cell 2\u001b[0m line \u001b[0;36m8\n\u001b[0;32m      <a href='vscode-notebook-cell:/c%3A/Users/Dell/Desktop/Mane/Mane-Project/json_edit.ipynb#W3sZmlsZQ%3D%3D?line=4'>5</a>\u001b[0m \u001b[39mwith\u001b[39;00m \u001b[39mopen\u001b[39m(txt_file_path, \u001b[39m'\u001b[39m\u001b[39mr\u001b[39m\u001b[39m'\u001b[39m, encoding\u001b[39m=\u001b[39m\u001b[39m'\u001b[39m\u001b[39mutf8\u001b[39m\u001b[39m'\u001b[39m) \u001b[39mas\u001b[39;00m txt_file:\n\u001b[0;32m      <a href='vscode-notebook-cell:/c%3A/Users/Dell/Desktop/Mane/Mane-Project/json_edit.ipynb#W3sZmlsZQ%3D%3D?line=5'>6</a>\u001b[0m     txt_data \u001b[39m=\u001b[39m txt_file\u001b[39m.\u001b[39mreadlines()\n\u001b[1;32m----> <a href='vscode-notebook-cell:/c%3A/Users/Dell/Desktop/Mane/Mane-Project/json_edit.ipynb#W3sZmlsZQ%3D%3D?line=7'>8</a>\u001b[0m convert_to_json(txt_data, json_file_path)\n",
      "\u001b[1;32mc:\\Users\\Dell\\Desktop\\Mane\\Mane-Project\\json_edit.ipynb Cell 2\u001b[0m line \u001b[0;36m2\n\u001b[0;32m     <a href='vscode-notebook-cell:/c%3A/Users/Dell/Desktop/Mane/Mane-Project/json_edit.ipynb#W3sZmlsZQ%3D%3D?line=23'>24</a>\u001b[0m \u001b[39mdef\u001b[39;00m \u001b[39mconvert_to_json\u001b[39m(txt_data, json_file_path):\n\u001b[1;32m---> <a href='vscode-notebook-cell:/c%3A/Users/Dell/Desktop/Mane/Mane-Project/json_edit.ipynb#W3sZmlsZQ%3D%3D?line=24'>25</a>\u001b[0m     entries \u001b[39m=\u001b[39m parse_data(txt_data)\n\u001b[0;32m     <a href='vscode-notebook-cell:/c%3A/Users/Dell/Desktop/Mane/Mane-Project/json_edit.ipynb#W3sZmlsZQ%3D%3D?line=25'>26</a>\u001b[0m     json_data \u001b[39m=\u001b[39m json\u001b[39m.\u001b[39mdumps(entries, indent\u001b[39m=\u001b[39m\u001b[39m2\u001b[39m)\n\u001b[0;32m     <a href='vscode-notebook-cell:/c%3A/Users/Dell/Desktop/Mane/Mane-Project/json_edit.ipynb#W3sZmlsZQ%3D%3D?line=27'>28</a>\u001b[0m     \u001b[39mwith\u001b[39;00m \u001b[39mopen\u001b[39m(json_file_path, \u001b[39m'\u001b[39m\u001b[39mw\u001b[39m\u001b[39m'\u001b[39m, encoding\u001b[39m=\u001b[39m\u001b[39m'\u001b[39m\u001b[39mutf8\u001b[39m\u001b[39m'\u001b[39m) \u001b[39mas\u001b[39;00m json_file:\n",
      "\u001b[1;32mc:\\Users\\Dell\\Desktop\\Mane\\Mane-Project\\json_edit.ipynb Cell 2\u001b[0m line \u001b[0;36m1\n\u001b[0;32m     <a href='vscode-notebook-cell:/c%3A/Users/Dell/Desktop/Mane/Mane-Project/json_edit.ipynb#W3sZmlsZQ%3D%3D?line=12'>13</a>\u001b[0m             current_entry \u001b[39m=\u001b[39m {}\n\u001b[0;32m     <a href='vscode-notebook-cell:/c%3A/Users/Dell/Desktop/Mane/Mane-Project/json_edit.ipynb#W3sZmlsZQ%3D%3D?line=13'>14</a>\u001b[0m         \u001b[39mcontinue\u001b[39;00m\n\u001b[1;32m---> <a href='vscode-notebook-cell:/c%3A/Users/Dell/Desktop/Mane/Mane-Project/json_edit.ipynb#W3sZmlsZQ%3D%3D?line=15'>16</a>\u001b[0m     key, value \u001b[39m=\u001b[39m line\u001b[39m.\u001b[39msplit(\u001b[39m'\u001b[39m\u001b[39m:\u001b[39m\u001b[39m'\u001b[39m, \u001b[39m1\u001b[39m)\n\u001b[0;32m     <a href='vscode-notebook-cell:/c%3A/Users/Dell/Desktop/Mane/Mane-Project/json_edit.ipynb#W3sZmlsZQ%3D%3D?line=16'>17</a>\u001b[0m     current_entry[key\u001b[39m.\u001b[39mstrip()] \u001b[39m=\u001b[39m value\u001b[39m.\u001b[39mstrip()\n\u001b[0;32m     <a href='vscode-notebook-cell:/c%3A/Users/Dell/Desktop/Mane/Mane-Project/json_edit.ipynb#W3sZmlsZQ%3D%3D?line=18'>19</a>\u001b[0m \u001b[39mif\u001b[39;00m current_entry:\n",
      "\u001b[1;31mValueError\u001b[0m: not enough values to unpack (expected 2, got 1)"
     ]
    }
   ],
   "source": [
    "if __name__ == \"__main__\":\n",
    "    txt_file_path = \"Data/HeavyDataset.txt\"  \n",
    "    json_file_path = \"output.json\"    \n",
    "\n",
    "    with open(txt_file_path, 'r', encoding='utf8') as txt_file:\n",
    "        txt_data = txt_file.readlines()\n",
    "\n",
    "    convert_to_json(txt_data, json_file_path)"
   ]
  },
  {
   "cell_type": "code",
   "execution_count": 1,
   "metadata": {},
   "outputs": [],
   "source": [
    "import json\n",
    "\n",
    "def parse_data(txt_data):\n",
    "    entries = []\n",
    "    current_entry = {}\n",
    "\n",
    "    for line in txt_data:\n",
    "        line = line.strip()\n",
    "\n",
    "        if not line:\n",
    "            if current_entry:\n",
    "                entries.append(current_entry)\n",
    "                current_entry = {}\n",
    "            continue\n",
    "\n",
    "        key, value = line.split(':', 1)\n",
    "        key = key.strip()\n",
    "        value = value.strip().replace(\"\\u2013\", \"-\").replace(\"\\\"\", \"\")\n",
    "        current_entry[key] = value\n",
    "\n",
    "    if current_entry:\n",
    "        entries.append(current_entry)\n",
    "\n",
    "    return entries\n",
    "\n",
    "def convert_to_json(txt_data, json_file_path):\n",
    "    entries = parse_data(txt_data)\n",
    "    json_data = json.dumps(entries, indent=2)\n",
    "\n",
    "    with open(json_file_path, 'w', encoding='utf8') as json_file:\n",
    "        json_file.write(json_data)\n",
    "\n",
    "if __name__ == \"__main__\":\n",
    "    txt_file_path = \"/home/mane/Mane-Project/Model/test_data.txt\"\n",
    "    json_file_path = \"test.json\"\n",
    "\n",
    "    with open(txt_file_path, 'r', encoding='utf8') as txt_file:\n",
    "        txt_data = txt_file.readlines()\n",
    "\n",
    "    convert_to_json(txt_data, json_file_path)\n"
   ]
  },
  {
   "cell_type": "code",
   "execution_count": 15,
   "metadata": {},
   "outputs": [
    {
     "name": "stdout",
     "output_type": "stream",
     "text": [
      "Field removed and data saved to 'modified_data.json'.\n"
     ]
    }
   ],
   "source": [
    "import json\n",
    "\n",
    "# Read the JSON file\n",
    "with open('faq_data.json', 'r', encoding='utf8') as file:\n",
    "    data = json.load(file)\n",
    "\n",
    "# Remove the '_id' field\n",
    "for item in data:\n",
    "    if '_id' in item:\n",
    "        del item['_id']\n",
    "\n",
    "# Write the modified data back to the JSON file\n",
    "with open('modified_faq_data.json', 'w') as file:\n",
    "    json.dump(data, file, indent=3)\n",
    "\n",
    "print(\"Field removed and data saved to 'modified_faq_data.json'.\")"
   ]
  },
  {
   "cell_type": "code",
   "execution_count": null,
   "metadata": {},
   "outputs": [],
   "source": []
  }
 ],
 "metadata": {
  "kernelspec": {
   "display_name": "Python 3",
   "language": "python",
   "name": "python3"
  },
  "language_info": {
   "codemirror_mode": {
    "name": "ipython",
    "version": 3
   },
   "file_extension": ".py",
   "mimetype": "text/x-python",
   "name": "python",
   "nbconvert_exporter": "python",
   "pygments_lexer": "ipython3",
   "version": "3.11.5"
  }
 },
 "nbformat": 4,
 "nbformat_minor": 2
}
