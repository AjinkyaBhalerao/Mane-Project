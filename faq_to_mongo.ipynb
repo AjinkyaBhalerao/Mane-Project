{
 "cells": [
  {
   "cell_type": "code",
   "execution_count": 39,
   "metadata": {},
   "outputs": [],
   "source": [
    "import pymongo\n",
    "import os\n",
    "import json\n",
    "from bson import ObjectId"
   ]
  },
  {
   "cell_type": "code",
   "execution_count": 49,
   "metadata": {},
   "outputs": [
    {
     "name": "stdout",
     "output_type": "stream",
     "text": [
      "fftgvhbjgh\n"
     ]
    }
   ],
   "source": [
    "client = pymongo.MongoClient(\"mongodb://localhost:27017\")\n",
    "db = client[\"chatbot_training\"]\n",
    "\n",
    "collection = \"qna_collection\"\n",
    "if collection in db.list_collection_names():\n",
    "    # Create the collection\n",
    "    db.drop_collection(collection)\n",
    "    db.create_collection(collection)\n",
    "#if collection \n",
    "\n",
    "collection = db[\"qna_collection\"]\n",
    "faq_documents = collection.find({}, {'question': 1, 'answer': 1, \"_id\":0})\n",
    "faq_list = []\n",
    "faq_folder_path = 'Data/text_files/faq/'\n",
    "\n",
    "for filename in os.listdir(faq_folder_path):\n",
    "    if filename.endswith(\".txt\"):\n",
    "        with open(os.path.join(faq_folder_path, filename), \"r\", encoding='utf8') as file:\n",
    "            lines = file.readlines()\n",
    "\n",
    "            qa_pairs = []\n",
    "            current_question = None\n",
    "            \n",
    "            for line in lines:\n",
    "                line = line.strip()\n",
    "\n",
    "                if not line:  \n",
    "                    if current_question:\n",
    "                        qa_pairs.append({\"question\": current_question, \"answer\": current_answer})\n",
    "                        current_question = None\n",
    "                        current_answer = \"\"\n",
    "                elif not current_question:\n",
    "                    current_question = line\n",
    "                    current_answer = \"\"\n",
    "                else:\n",
    "                    current_answer += line \n",
    "\n",
    "                \n",
    "\n",
    "            if qa_pairs:\n",
    "                collection.insert_many(qa_pairs)\n",
    "\n",
    "\n",
    "# Close the MongoDB connection\n",
    "#client.close()"
   ]
  },
  {
   "cell_type": "code",
   "execution_count": 50,
   "metadata": {},
   "outputs": [
    {
     "name": "stdout",
     "output_type": "stream",
     "text": [
      "Successfully saved 122 documents to Data/text_files/faq/faq_data.json\n"
     ]
    }
   ],
   "source": [
    "class MongoEncoder(json.JSONEncoder):\n",
    "    def default(self, obj):\n",
    "        if isinstance(obj, ObjectId):\n",
    "            return str(obj)\n",
    "        return json.JSONEncoder.default(self, obj)\n",
    "#client = pymongo.MongoClient(\"mongodb://localhost:27017/\")\n",
    "#db = client[\"chatbot_training\"]\n",
    "#collection = db[\"qna_collection\"]\n",
    "documents = list(collection.find())\n",
    "\n",
    "if documents:\n",
    "    # Specify the path to save the JSON file\n",
    "    json_file_path = 'Data/text_files/faq/faq_data.json'\n",
    "    if os.path.exists(json_file_path):\n",
    "        os.remove(json_file_path)\n",
    "    # Write the documents to a JSON file using the custom encoder\n",
    "    with open(json_file_path, 'w', encoding='utf-8') as json_file:\n",
    "        json.dump(documents, json_file, cls=MongoEncoder, ensure_ascii=False, indent=4)\n",
    "\n",
    "    print(f'Successfully saved {len(documents)} documents to {json_file_path}')\n",
    "else:\n",
    "    print('No documents found in the MongoDB collection.')\n",
    "\n",
    "# Close the MongoDB connection\n",
    "client.close()"
   ]
  },
  {
   "cell_type": "code",
   "execution_count": null,
   "metadata": {},
   "outputs": [],
   "source": []
  }
 ],
 "metadata": {
  "kernelspec": {
   "display_name": "base",
   "language": "python",
   "name": "python3"
  },
  "language_info": {
   "codemirror_mode": {
    "name": "ipython",
    "version": 3
   },
   "file_extension": ".py",
   "mimetype": "text/x-python",
   "name": "python",
   "nbconvert_exporter": "python",
   "pygments_lexer": "ipython3",
   "version": "3.9.12"
  }
 },
 "nbformat": 4,
 "nbformat_minor": 2
}
