{
 "cells": [
  {
   "cell_type": "code",
   "execution_count": 15,
   "metadata": {},
   "outputs": [
    {
     "name": "stdout",
     "output_type": "stream",
     "text": [
      "Field removed and data saved to 'modified_data.json'.\n"
     ]
    }
   ],
   "source": [
    "import json\n",
    "\n",
    "# Read the JSON file\n",
    "with open('faq_data.json', 'r', encoding='utf8') as file:\n",
    "    data = json.load(file)\n",
    "\n",
    "# Remove the '_id' field\n",
    "for item in data:\n",
    "    if '_id' in item:\n",
    "        del item['_id']\n",
    "\n",
    "# Write the modified data back to the JSON file\n",
    "with open('modified_faq_data.json', 'w') as file:\n",
    "    json.dump(data, file, indent=3)\n",
    "\n",
    "print(\"Field removed and data saved to 'modified_faq_data.json'.\")"
   ]
  },
  {
   "cell_type": "code",
   "execution_count": null,
   "metadata": {},
   "outputs": [],
   "source": []
  }
 ],
 "metadata": {
  "kernelspec": {
   "display_name": "Python 3",
   "language": "python",
   "name": "python3"
  },
  "language_info": {
   "codemirror_mode": {
    "name": "ipython",
    "version": 3
   },
   "file_extension": ".py",
   "mimetype": "text/x-python",
   "name": "python",
   "nbconvert_exporter": "python",
   "pygments_lexer": "ipython3",
   "version": "3.9.13"
  }
 },
 "nbformat": 4,
 "nbformat_minor": 2
}
