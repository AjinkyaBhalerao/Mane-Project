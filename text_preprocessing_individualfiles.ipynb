{
 "cells": [
  {
   "cell_type": "code",
   "execution_count": 1,
   "metadata": {},
   "outputs": [],
   "source": [
    "import re\n",
    "import os\n",
    "import nltk\n",
    "import pandas as pd\n",
    "from nltk.tokenize import word_tokenize\n",
    "from nltk.stem import PorterStemmer\n",
    "from nltk.stem import WordNetLemmatizer\n",
    "\n",
    "def clean_text(text):\n",
    "    # Remove punctuations and unnecessary chars\n",
    "    text1 = re.sub(r'\\t', '', text)\n",
    "    text1 = ' '.join(text1.split())\n",
    "    text1 = re.sub(r'[^A-Za-z0-9\\s]', '', text1)\n",
    "    text1 = text1.lower()\n",
    "    return text1\n",
    "\n",
    "def tokenize_text(text):\n",
    "    tokens = word_tokenize(text)\n",
    "    return tokens\n",
    "\n",
    "def stem_text(tokens):\n",
    "    stemmer = PorterStemmer()\n",
    "    stemmed_tokens = [stemmer.stem(token) for token in tokens]\n",
    "    return stemmed_tokens\n",
    "\n",
    "def lemmatize_text(tokens):\n",
    "    lemmatizer = WordNetLemmatizer()\n",
    "    lemmatized_tokens = [lemmatizer.lemmatize(token) for token in tokens]\n",
    "    return lemmatized_tokens"
   ]
  },
  {
   "cell_type": "code",
   "execution_count": 2,
   "metadata": {},
   "outputs": [],
   "source": [
    "folder = 'Data/text_files/'\n",
    "output_folder = 'Data/preprocessed_files'\n",
    "\n",
    "if not os.path.exists(output_folder):\n",
    "    os.mkdir(output_folder)\n",
    "\n",
    "file_list = os.listdir(folder)\n",
    "\n",
    "# Process each file\n",
    "for filename in file_list:\n",
    "    if filename.endswith('.txt'):\n",
    "        with open(os.path.join(folder, filename), 'r', encoding='utf8') as file:\n",
    "            text = file.read()\n",
    "\n",
    "        clean_texts = clean_text(str(text))\n",
    "\n",
    "        # Tokenization\n",
    "        tokens = tokenize_text(clean_texts)\n",
    "\n",
    "        # Stemming\n",
    "        stemmed_tokens = stem_text(tokens=tokens)\n",
    "\n",
    "        # Lemmatization\n",
    "        lemmatized_tokens = lemmatize_text(tokens=tokens)\n",
    "\n",
    "        # Save the preprocessed text to a new file\n",
    "        output_filename = os.path.join(output_folder, filename)\n",
    "        with open(output_filename, 'w') as output_file:\n",
    "            output_file.write(str(lemmatized_tokens))"
   ]
  },
  {
   "cell_type": "code",
   "execution_count": null,
   "metadata": {},
   "outputs": [],
   "source": []
  }
 ],
 "metadata": {
  "kernelspec": {
   "display_name": "base",
   "language": "python",
   "name": "python3"
  },
  "language_info": {
   "codemirror_mode": {
    "name": "ipython",
    "version": 3
   },
   "file_extension": ".py",
   "mimetype": "text/x-python",
   "name": "python",
   "nbconvert_exporter": "python",
   "pygments_lexer": "ipython3",
   "version": "3.9.12"
  }
 },
 "nbformat": 4,
 "nbformat_minor": 2
}
